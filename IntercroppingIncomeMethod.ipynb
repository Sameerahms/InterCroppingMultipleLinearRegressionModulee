{
 "cells": [
  {
   "cell_type": "code",
   "execution_count": 1,
   "id": "systematic-rating",
   "metadata": {},
   "outputs": [],
   "source": [
    "#Importing the libraries\n",
    "import numpy as np\n",
    "import matplotlib.pyplot as plt\n",
    "import pandas as pd\n",
    "import seaborn as sns\n",
    "%matplotlib inline"
   ]
  },
  {
   "cell_type": "code",
   "execution_count": 2,
   "id": "beneficial-startup",
   "metadata": {},
   "outputs": [
    {
     "data": {
      "text/html": [
       "<div>\n",
       "<style scoped>\n",
       "    .dataframe tbody tr th:only-of-type {\n",
       "        vertical-align: middle;\n",
       "    }\n",
       "\n",
       "    .dataframe tbody tr th {\n",
       "        vertical-align: top;\n",
       "    }\n",
       "\n",
       "    .dataframe thead th {\n",
       "        text-align: right;\n",
       "    }\n",
       "</style>\n",
       "<table border=\"1\" class=\"dataframe\">\n",
       "  <thead>\n",
       "    <tr style=\"text-align: right;\">\n",
       "      <th></th>\n",
       "      <th>District</th>\n",
       "      <th>Size</th>\n",
       "      <th>Crop</th>\n",
       "      <th>InitialCost</th>\n",
       "      <th>Income</th>\n",
       "    </tr>\n",
       "  </thead>\n",
       "  <tbody>\n",
       "    <tr>\n",
       "      <th>0</th>\n",
       "      <td>Kalutara</td>\n",
       "      <td>1.5</td>\n",
       "      <td>pepper</td>\n",
       "      <td>9000</td>\n",
       "      <td>113250</td>\n",
       "    </tr>\n",
       "    <tr>\n",
       "      <th>1</th>\n",
       "      <td>Kandy</td>\n",
       "      <td>1.0</td>\n",
       "      <td>coconut</td>\n",
       "      <td>17000</td>\n",
       "      <td>42840</td>\n",
       "    </tr>\n",
       "    <tr>\n",
       "      <th>2</th>\n",
       "      <td>Matale</td>\n",
       "      <td>2.5</td>\n",
       "      <td>cinnamon</td>\n",
       "      <td>30000</td>\n",
       "      <td>435312</td>\n",
       "    </tr>\n",
       "    <tr>\n",
       "      <th>3</th>\n",
       "      <td>Nuwara Eliya</td>\n",
       "      <td>4.0</td>\n",
       "      <td>pepper</td>\n",
       "      <td>50000</td>\n",
       "      <td>272000</td>\n",
       "    </tr>\n",
       "    <tr>\n",
       "      <th>4</th>\n",
       "      <td>Galle</td>\n",
       "      <td>3.5</td>\n",
       "      <td>coconut</td>\n",
       "      <td>59500</td>\n",
       "      <td>192780</td>\n",
       "    </tr>\n",
       "  </tbody>\n",
       "</table>\n",
       "</div>"
      ],
      "text/plain": [
       "       District  Size       Crop  InitialCost  Income\n",
       "0      Kalutara   1.5    pepper          9000  113250\n",
       "1         Kandy   1.0    coconut        17000   42840\n",
       "2        Matale   2.5  cinnamon         30000  435312\n",
       "3  Nuwara Eliya   4.0    pepper         50000  272000\n",
       "4         Galle   3.5    coconut        59500  192780"
      ]
     },
     "execution_count": 2,
     "metadata": {},
     "output_type": "execute_result"
    }
   ],
   "source": [
    "#Importing the data set\n",
    "incomeData = pd.read_csv('E:/4th Year/Research/Python/intercroppingData.csv')\n",
    "x = incomeData.iloc[:, :-1].values\n",
    "y = incomeData.iloc[:, 4].values\n",
    "\n",
    "incomeData.head()"
   ]
  },
  {
   "cell_type": "code",
   "execution_count": 3,
   "id": "veterinary-henry",
   "metadata": {},
   "outputs": [
    {
     "data": {
      "text/plain": [
       "<AxesSubplot:>"
      ]
     },
     "execution_count": 3,
     "metadata": {},
     "output_type": "execute_result"
    },
    {
     "data": {
      "image/png": "[encoded data removed]",
      "text/plain": [
       "<Figure size 432x288 with 2 Axes>"
      ]
     },
     "metadata": {
      "needs_background": "light"
     },
     "output_type": "display_data"
    }
   ],
   "source": [
    "sns.heatmap(incomeData.corr())"
   ]
  },
  {
   "cell_type": "code",
   "execution_count": 4,
   "id": "referenced-princeton",
   "metadata": {},
   "outputs": [],
   "source": [
    "#Encoding categorical data\n",
    "#print(x)\n",
    "from sklearn.preprocessing import LabelEncoder, OneHotEncoder\n",
    "labelencoder = LabelEncoder()\n",
    "x[:, 0] = labelencoder.fit_transform(x[:, 0])\n",
    "x[:, 2] = labelencoder.fit_transform(x[:, 2])\n",
    "\n",
    "#onehotencoder = OneHotEncoder()\n",
    "#x = onehotencoder.fit_transform(x).toarray()\n",
    "#x = x[:, 1:]\n"
   ]
  },
  {
   "cell_type": "code",
   "execution_count": 5,
   "id": "informal-phrase",
   "metadata": {},
   "outputs": [],
   "source": [
    "#Splitting the dataset into the Training set and Test set\n",
    "from sklearn.model_selection import train_test_split\n",
    "x_train, x_test, y_train, y_test = train_test_split(x, y, test_size = 0.2, random_state = 0)"
   ]
  },
  {
   "cell_type": "code",
   "execution_count": 6,
   "id": "established-research",
   "metadata": {},
   "outputs": [
    {
     "data": {
      "text/plain": [
       "LinearRegression()"
      ]
     },
     "execution_count": 6,
     "metadata": {},
     "output_type": "execute_result"
    }
   ],
   "source": [
    "#Fitting Multiple Linear Regression to the Training set\n",
    "from sklearn.linear_model import LinearRegression\n",
    "regressor = LinearRegression()\n",
    "regressor.fit(x_train, y_train)"
   ]
  },
  {
   "cell_type": "code",
   "execution_count": 7,
   "id": "unknown-desert",
   "metadata": {},
   "outputs": [
    {
     "name": "stdout",
     "output_type": "stream",
     "text": [
      "[358027.17185876 223387.50488755 523471.39770418 477793.92540376\n",
      " 396966.79785636 390201.15879233 406956.15941224 415333.6597222\n",
      " 123923.28952653 413721.79847628 637450.7245753  426247.07145299\n",
      " 380797.73191897 -29353.4652583  709839.28393899  73658.28766678\n",
      " 327225.11933314  98790.78859666 115545.78921657 116242.27971589]\n"
     ]
    }
   ],
   "source": [
    "y_pred = regressor.predict(x_test)\n",
    "print(y_pred)"
   ]
  },
  {
   "cell_type": "code",
   "execution_count": 8,
   "id": "russian-filter",
   "metadata": {},
   "outputs": [
    {
     "name": "stdout",
     "output_type": "stream",
     "text": [
      "[-8.37750031e+03  1.87613850e+05 -2.25237276e+05 -6.83433529e+00]\n"
     ]
    }
   ],
   "source": [
    "#Cal the Coefficients\n",
    "print(regressor.coef_)"
   ]
  },
  {
   "cell_type": "code",
   "execution_count": 9,
   "id": "available-merchant",
   "metadata": {},
   "outputs": [
    {
     "name": "stdout",
     "output_type": "stream",
     "text": [
      "309731.83316104684\n"
     ]
    }
   ],
   "source": [
    "#Cal the Intercept\n",
    "print(regressor.intercept_)\n"
   ]
  },
  {
   "cell_type": "code",
   "execution_count": 10,
   "id": "collected-wallace",
   "metadata": {},
   "outputs": [
    {
     "data": {
      "text/plain": [
       "-0.27688675169028976"
      ]
     },
     "execution_count": 10,
     "metadata": {},
     "output_type": "execute_result"
    }
   ],
   "source": [
    "#Cal the R squared value\n",
    "from sklearn.metrics import r2_score\n",
    "r2_score(y_test, y_pred)"
   ]
  },
  {
   "cell_type": "code",
   "execution_count": null,
   "id": "nonprofit-maple",
   "metadata": {},
   "outputs": [],
   "source": []
  },
  {
   "cell_type": "code",
   "execution_count": null,
   "id": "acceptable-kelly",
   "metadata": {},
   "outputs": [],
   "source": []
  }
 ],
 "metadata": {
  "kernelspec": {
   "display_name": "Python 3",
   "language": "python",
   "name": "python3"
  },
  "language_info": {
   "codemirror_mode": {
    "name": "ipython",
    "version": 3
   },
   "file_extension": ".py",
   "mimetype": "text/x-python",
   "name": "python",
   "nbconvert_exporter": "python",
   "pygments_lexer": "ipython3",
   "version": "3.9.2"
  }
 },
 "nbformat": 4,
 "nbformat_minor": 5
}
